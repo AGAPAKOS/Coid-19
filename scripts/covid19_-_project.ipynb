{
 "cells": [
  {
   "cell_type": "code",
   "execution_count": 1,
   "id": "d528bec0",
   "metadata": {},
   "outputs": [],
   "source": [
    "# 1) Import Libraries\n",
    "\n",
    "import pandas as pd\n",
    "import os\n",
    "import requests\n",
    "import io"
   ]
  },
  {
   "cell_type": "code",
   "execution_count": 2,
   "id": "f162fdd9",
   "metadata": {},
   "outputs": [],
   "source": [
    "# 2) Import Data\n",
    "# 2.1) Set Folder Path\n",
    "\n",
    "PATH_A = 'C:\\\\Users\\\\AgaPakos\\\\Documents\\\\UE\\\\ERAZMUS\\\\Bolonia\\\\STUDY\\\\Machine Learning Systems for Data Science - Systems and Algorithms for Data Science\\\\covid19'\n",
    "PATH_M = 'C:\\\\Users\\\\maxim\\\\OneDrive\\\\Desktop\\\\Unibo\\\\Machine Learning Systems for Data Science_90477\\\\Module II\\\\Final Project'\n",
    "PATH_D = ''"
   ]
  },
  {
   "cell_type": "code",
   "execution_count": 3,
   "id": "dc94e09c",
   "metadata": {},
   "outputs": [
    {
     "name": "stdout",
     "output_type": "stream",
     "text": [
      "        date  pm25   o3  no2  co\n",
      "0  2022/11/1    40   28   20   3\n",
      "1  2022/11/2    45   23   25   3\n",
      "2  2022/11/3    53   17   26   4\n",
      "3  2022/11/4    47   24   10   1\n",
      "4  2022/11/5    31   21    6   1\n"
     ]
    }
   ],
   "source": [
    "# 2.2) Import Air Quality data from Local Path\n",
    "\n",
    "# Select one of the paths here\n",
    "air_PATH = os.path.join(PATH_M, 'new-york-air-quality.csv')\n",
    "air = pd.read_csv(air_PATH)\n",
    "print(air.head())"
   ]
  },
  {
   "cell_type": "code",
   "execution_count": 4,
   "id": "2ed2c779",
   "metadata": {},
   "outputs": [
    {
     "name": "stdout",
     "output_type": "stream",
     "text": [
      "  date_of_interest  CASE_COUNT  PROBABLE_CASE_COUNT  HOSPITALIZED_COUNT  \\\n",
      "0       02/29/2020           1                    0                   1   \n",
      "1       03/01/2020           0                    0                   1   \n",
      "2       03/02/2020           0                    0                   2   \n",
      "3       03/03/2020           1                    0                   7   \n",
      "4       03/04/2020           5                    0                   2   \n",
      "\n",
      "   DEATH_COUNT  PROBABLE_DEATH_COUNT  CASE_COUNT_7DAY_AVG  \\\n",
      "0            0                     0                    0   \n",
      "1            0                     0                    0   \n",
      "2            0                     0                    0   \n",
      "3            0                     0                    0   \n",
      "4            0                     0                    0   \n",
      "\n",
      "   ALL_CASE_COUNT_7DAY_AVG  HOSP_COUNT_7DAY_AVG  DEATH_COUNT_7DAY_AVG  ...  \\\n",
      "0                        0                    0                     0  ...   \n",
      "1                        0                    0                     0  ...   \n",
      "2                        0                    0                     0  ...   \n",
      "3                        0                    0                     0  ...   \n",
      "4                        0                    0                     0  ...   \n",
      "\n",
      "   SI_HOSPITALIZED_COUNT  SI_DEATH_COUNT  SI_PROBABLE_DEATH_COUNT  \\\n",
      "0                      0               0                        0   \n",
      "1                      0               0                        0   \n",
      "2                      0               0                        0   \n",
      "3                      0               0                        0   \n",
      "4                      0               0                        0   \n",
      "\n",
      "   SI_CASE_COUNT_7DAY_AVG  SI_PROBABLE_CASE_COUNT_7DAY_AVG  \\\n",
      "0                       0                                0   \n",
      "1                       0                                0   \n",
      "2                       0                                0   \n",
      "3                       0                                0   \n",
      "4                       0                                0   \n",
      "\n",
      "   SI_ALL_CASE_COUNT_7DAY_AVG  SI_HOSPITALIZED_COUNT_7DAY_AVG  \\\n",
      "0                           0                               0   \n",
      "1                           0                               0   \n",
      "2                           0                               0   \n",
      "3                           0                               0   \n",
      "4                           0                               0   \n",
      "\n",
      "   SI_DEATH_COUNT_7DAY_AVG  SI_ALL_DEATH_COUNT_7DAY_AVG  INCOMPLETE  \n",
      "0                        0                            0           0  \n",
      "1                        0                            0           0  \n",
      "2                        0                            0           0  \n",
      "3                        0                            0           0  \n",
      "4                        0                            0           0  \n",
      "\n",
      "[5 rows x 67 columns]\n"
     ]
    }
   ],
   "source": [
    "# 2.3) Import NYC Health data from Github repository\n",
    "\n",
    "url_health = \"https://raw.githubusercontent.com/nychealth/coronavirus-data/master/trends/data-by-day.csv\"\n",
    "download_health = requests.get(url_health).content\n",
    "health = pd.read_csv(io.StringIO(download_health.decode('utf-8')), sep = ',')\n",
    "print(health.head())"
   ]
  },
  {
   "cell_type": "code",
   "execution_count": null,
   "id": "c8bd2a4b",
   "metadata": {},
   "outputs": [],
   "source": [
    "# 2.4) Merge data from air and health"
   ]
  }
 ],
 "metadata": {
  "kernelspec": {
   "display_name": "Python 3 (ipykernel)",
   "language": "python",
   "name": "python3"
  },
  "language_info": {
   "codemirror_mode": {
    "name": "ipython",
    "version": 3
   },
   "file_extension": ".py",
   "mimetype": "text/x-python",
   "name": "python",
   "nbconvert_exporter": "python",
   "pygments_lexer": "ipython3",
   "version": "3.9.12"
  }
 },
 "nbformat": 4,
 "nbformat_minor": 5
}
