{
 "cells": [
  {
   "cell_type": "code",
   "execution_count": null,
   "id": "d528bec0",
   "metadata": {},
   "outputs": [],
   "source": [
    "# 1) Import Libraries\n",
    "\n",
    "import pandas as pd\n",
    "import os\n",
    "import requests\n",
    "import io\n",
    "import numpy as np\n",
    "import datetime\n",
    "import cufflinks as cf\n",
    "from plotly.offline import download_plotlyjs, init_notebook_mode, plot, iplot\n",
    "init_notebook_mode(connected=True)\n",
    "cf.go_offline()\n",
    "import plotly.express as px\n",
    "import plotly.graph_objects as go\n",
    "import matplotlib.pyplot as plt\n",
    "from sklearn.linear_model import LinearRegression"
   ]
  },
  {
   "cell_type": "code",
   "execution_count": null,
   "id": "f162fdd9",
   "metadata": {},
   "outputs": [],
   "source": [
    "# 2) Import Data\n",
    "# 2.1) Set Folder Path\n",
    "\n",
    "PATH_A = 'C:\\\\Users\\\\AgaPakos\\\\Documents\\\\UE\\\\ERASMUS\\\\Bolonia\\\\STUDY\\\\Machine Learning Systems for Data Science - Systems and Algorithms for Data Science\\\\covid19\\\\python_files'\n",
    "PATH_M = 'C:\\\\Users\\\\maxim\\\\OneDrive\\\\Desktop\\\\Unibo\\\\Machine Learning Systems for Data Science_90477\\\\Module II\\\\Final Project'\n",
    "PATH_D = ''"
   ]
  },
  {
   "cell_type": "code",
   "execution_count": null,
   "id": "746455a9",
   "metadata": {},
   "outputs": [],
   "source": [
    "# 2.2) Import Air Quality data from Local Path\n",
    "\n",
    "# Select one of the paths here\n",
    "air_PATH = os.path.join(PATH_A, 'new-york-air-quality.csv')\n",
    "air = pd.read_csv(air_PATH, parse_dates = ['date'])\n",
    "print(air.columns) # renaming neccesary for the last 4 columns\n",
    "print(air)\n",
    "air.info()\n",
    "air.rename(columns={' pm25': 'pm25', ' o3': 'o3', ' no2': 'no2', ' co': 'co'}, inplace = True)\n",
    "print(air)\n",
    "# Overview\n",
    "print(air.head())\n",
    "air.info() # We can see that the columns in air need to be converted to 'int64'\n",
    "air.describe(include = 'all', datetime_is_numeric = True) # 'datetime_is_numeric = True' is used to silence a known Python warning\n",
    "print(air.head())"
   ]
  },
  {
   "cell_type": "code",
   "execution_count": null,
   "id": "2ed2c779",
   "metadata": {},
   "outputs": [],
   "source": [
    "# 2.3) Import NYC Health data from Github repository\n",
    "\n",
    "url_health = 'https://raw.githubusercontent.com/nychealth/coronavirus-data/master/trends/data-by-day.csv'\n",
    "download_health = requests.get(url_health).content\n",
    "health = pd.read_csv(io.StringIO(download_health.decode('utf-8')), sep = ',', parse_dates= ['date_of_interest'])\n",
    "\n",
    "# Overview\n",
    "# print(health.head())\n",
    "health.info()\n",
    "health.describe(include = 'all', datetime_is_numeric = True) # 'datetime_is_numeric = True' is used to silence a known Python warning"
   ]
  },
  {
   "cell_type": "code",
   "execution_count": null,
   "id": "c8bd2a4b",
   "metadata": {},
   "outputs": [],
   "source": [
    "# 3) Process and merge data\n",
    "# 3.1) Process data\n",
    "# 3.1.1) Change datetime columns from air and health to date-format without loosing the Dtype 'datetime64[ns]\n",
    "air['date'] = pd.to_datetime(air['date'])\n",
    "health['date_of_interest'] = pd.to_datetime(health['date_of_interest'])\n",
    "\n",
    "# 3.1.2) Sort air and health by their date columns\n",
    "air = air.sort_values(by = 'date')\n",
    "health = health.sort_values(by = 'date_of_interest')\n",
    "\n",
    "# 3.1.3) Check the date ranges\n",
    "air_date_range_min = min(air['date'].dt.strftime('%Y-%m-%d'))\n",
    "air_date_range_max = max(air['date'].dt.strftime('%Y-%m-%d'))\n",
    "print(f'Date range for air: {air_date_range_min}, {air_date_range_max}')\n",
    "health_date_range_min = min(health['date_of_interest'].dt.strftime('%Y-%m-%d'))\n",
    "health_date_range_max = max(health['date_of_interest'].dt.strftime('%Y-%m-%d'))\n",
    "print(f'Date range for health: {health_date_range_min}, {health_date_range_max}')\n",
    "# We can see that no date range includes the other. We therefore need an outer merge in 3.2)"
   ]
  },
  {
   "cell_type": "code",
   "execution_count": null,
   "id": "10fb22b8",
   "metadata": {},
   "outputs": [],
   "source": [
    "# 3.1.4) Find missing date rows in both air and health and add the missing rows\n",
    "\n",
    "# 3.1.4.1) air\n",
    "# Find the missing date rows\n",
    "air = air.set_index('date') # Set date as index\n",
    "air.index = pd.to_datetime(air.index) # format to date time object\n",
    "air_date_missing = pd.date_range(start = str(air_date_range_min), end = str(air_date_range_max)).difference(air.index)\n",
    "print(air)\n",
    "print(air_date_missing) \n",
    "print(\"For air: \" + str(air_date_missing.size) + \" date rows are missing (before fix)\")\n",
    "# We can see that air is missing rows.\n",
    "\n",
    "# Add the missing date rows\n",
    "air_date_range = pd.date_range(str(air_date_range_min), str(air_date_range_max)) # creates perfect date range\n",
    "air.index = pd.DatetimeIndex(air.index)\n",
    "air = air.reindex(air_date_range)\n",
    "air_date_missing = pd.date_range(start = str(air_date_range_min), end = str(air_date_range_max)).difference(air.index)\n",
    "print(\"For air: \" + str(air_date_missing.size) + \" date rows are missing (after fix)\")\n",
    "# Missing rows have been added.\n",
    "\n",
    "air.reset_index(inplace = True, drop = False) # needed to undo the index setting above; inplace = True means the \n",
    "# original air dataframe is targeted; drop = False retrieves the original date column.\n",
    "air.rename(columns={'index': 'date'}, inplace = True) # returning to original column name, so this cell can be re-run easier\n",
    "\n",
    "# 3.1.4.2) health\n",
    "# Find the missing date rows\n",
    "health = health.set_index('date_of_interest') # Set date value as index\n",
    "health.index = pd.to_datetime(health.index) # format to date time object\n",
    "health_date_missing = pd.date_range(start = str(health_date_range_min), end = str(health_date_range_max)).difference(health.index)\n",
    "print(health_date_missing)\n",
    "print(\"For health: \" + str(health_date_missing.size) + \" date rows are missing (before fix)\")\n",
    "# We can see that health is not missing any rows.\n",
    "\n",
    "# Add the missing date rows\n",
    "health_date_range = pd.date_range(str(health_date_range_min), str(health_date_range_max)) # creates perfect date range\n",
    "health.index = pd.DatetimeIndex(health.index)\n",
    "health = health.reindex(health_date_range)\n",
    "health_date_missing = pd.date_range(start = str(health_date_range_min), end = str(health_date_range_max)).difference(health.index)\n",
    "print(\"For health: \" + str(health_date_missing.size) + \" date rows are missing (after fix)\")\n",
    "\n",
    "health.reset_index(inplace = True, drop = False) # needed to undo the index setting above; inplace = True means the \n",
    "# original halth dataframe is targeted; drop = False retrieves the original date column.\n",
    "health.rename(columns={'index': 'date_of_interest'}, inplace = True) # returning to original column name, so this cell can be re-run easier"
   ]
  },
  {
   "cell_type": "code",
   "execution_count": null,
   "id": "37f8140d",
   "metadata": {
    "scrolled": true
   },
   "outputs": [],
   "source": [
    "# 3.2) Merge data from air and health into the final dataframe; process the data\n",
    "# 3.2.1) Outer merge air and health by their date columns; change all variables of interest to Dtype 'int64'\n",
    "df_merged = pd.merge(air, health, how = 'outer', left_on = 'date', right_on = 'date_of_interest')\n",
    "print(df_merged.iloc[0, [0, 5]]) # to check that the merged dataframe starts from the first possible date of both air and health\n",
    "print(df_merged.iloc[-1, [0, 5]]) # to check that the merged dataframe ends on the last possible date of both air and health\n",
    "print(f'Date range for air: {air_date_range_min}, {air_date_range_max}')\n",
    "print(f'Date range for health: {health_date_range_min}, {health_date_range_max}')\n",
    "# The date range matches.\n",
    "\n",
    "# 3.2.2) Create date_merged column which combines the entries from both date columns\n",
    "df_merged['date_merged'] = df_merged['date']\n",
    "df_merged['date_merged'] = df_merged.date_merged.combine_first(df_merged.date_of_interest)\n",
    "\n",
    "# 3.2.3 Create final dataframe\n",
    "set_start_date = '2020-03-03'\n",
    "set_end_date = '2020-06-26'\n",
    "index_start_date = df_merged.loc[df_merged.date_merged == set_start_date].index[0]\n",
    "index_end_date = df_merged.loc[df_merged.date_merged == set_end_date].index[0]\n",
    "df_final = df_merged.copy()\n",
    "df_final = df_final.loc[index_start_date:index_end_date, ['date_merged', 'pm25', 'no2', 'DEATH_COUNT']]\n",
    "df_final.head()"
   ]
  },
  {
   "cell_type": "code",
   "execution_count": null,
   "id": "d382a712",
   "metadata": {
    "scrolled": true
   },
   "outputs": [],
   "source": [
    "# 3.3 Process final dataframe\n",
    "\n",
    "# 3.3.1) Rename columns\n",
    "df_final.rename(columns={'date_merged': 'date', 'DEATH_COUNT': 'death'}, inplace = True)\n",
    "df_final\n",
    "\n",
    "# 3.3.2) Change datatypes; for pm25 and no2 we replace empty values by NaN and use a linear interpolation to replace NaN\n",
    "df_final = df_final.replace(r'^\\s*$', np.nan, regex=True) \n",
    "df_final[['pm25', 'no2']] = df_final[['pm25', 'no2']].astype(float).interpolate(method = 'linear').round(0).astype(np.int64)\n",
    "df_final.loc[:, 'death'] = df_final.loc[:, 'death'].astype(np.int64)\n",
    "\n",
    "# 3.3.3) Create additional log and difference variables\n",
    "df_final[['ln_pm25', 'ln_no2', 'ln_death']] = np.log(df_final[['pm25', 'no2', 'death']]) # warning: log(0) = -Inf\n",
    "df_final[['d_pm25', 'd_no2', 'd_death']] = df_final[['pm25', 'no2', 'death']].diff(periods = 1, axis = 0)\n",
    "df_final.replace([np.inf, -np.inf], np.nan, inplace = True) # replace Inf and -Inf by NaN\n"
   ]
  },
  {
   "cell_type": "code",
   "execution_count": null,
   "id": "f7aa9397",
   "metadata": {},
   "outputs": [],
   "source": [
    "# 3.4) View the whole final dataframe\n",
    "with pd.option_context('display.max_rows', None):\n",
    "   print(df_final)\n",
    "\n",
    "df_final.head()\n",
    "df_final.info()"
   ]
  },
  {
   "cell_type": "markdown",
   "id": "c4df463e",
   "metadata": {},
   "source": [
    "# 3.5) Descriptive plots\n",
    "## 3.5.1) Scatterplots\n"
   ]
  },
  {
   "cell_type": "markdown",
   "id": "dee72f49",
   "metadata": {},
   "source": [
    "### a) Deaths vs PM2.5"
   ]
  },
  {
   "cell_type": "code",
   "execution_count": null,
   "id": "426af96d",
   "metadata": {
    "scrolled": true
   },
   "outputs": [],
   "source": [
    "df_final.plot.scatter(x='pm25',\n",
    "                     y='death',\n",
    "                     ylim=(-10,610)\n",
    "                     )\n",
    "# Add title and axis names\n",
    "plt.title('Deaths vs PM2.5 scatter chart')\n",
    "plt.xlabel('PM2.5')\n",
    "plt.ylabel('Deaths')\n",
    "\n",
    "#Create linear regression\n",
    "X = df_final.iloc[:, 1].values.reshape(-1, 1)  # values converts it into a numpy array ->PM2.5\n",
    "Y = df_final.iloc[:, 3].values.reshape(-1, 1)  # -1 means that calculate the dimension of rows, but have 1 column-> Death\n",
    "linear_regressor = LinearRegression()\n",
    "linear_regressor.fit(X, Y)  # perform linear regression\n",
    "Y_pred = linear_regressor.predict(X)  # make predictions\n",
    "plt.plot(X, Y_pred, color='red')\n",
    "\n",
    "plt.show()\n"
   ]
  },
  {
   "cell_type": "markdown",
   "id": "5a1112c6",
   "metadata": {},
   "source": [
    "### b) Deaths vs NO2"
   ]
  },
  {
   "cell_type": "code",
   "execution_count": null,
   "id": "d754532f",
   "metadata": {
    "scrolled": false
   },
   "outputs": [],
   "source": [
    "df_final.plot.scatter(x='no2',\n",
    "                     y='death',\n",
    "                     ylim=(-10,600))\n",
    "# Add title and axis names\n",
    "plt.title('Deaths vs NO2 scatter chart')\n",
    "plt.xlabel('N02')\n",
    "plt.ylabel('Deaths')\n",
    "\n",
    "#Create linear regression\n",
    "X = df_final.iloc[:, 2].values.reshape(-1, 1)  # values converts it into a numpy array -> NO2\n",
    "Y = df_final.iloc[:, 3].values.reshape(-1, 1)  # -1 means that calculate the dimension of rows, but have 1 column-> Death\n",
    "linear_regressor = LinearRegression()\n",
    "linear_regressor.fit(X, Y)  # perform linear regression\n",
    "Y_pred = linear_regressor.predict(X)  # make predictions\n",
    "plt.plot(X, Y_pred, color='red')\n",
    "\n",
    "plt.show()\n"
   ]
  },
  {
   "cell_type": "markdown",
   "id": "47e92553",
   "metadata": {},
   "source": [
    "### c) Deaths vs lnPM2.5 "
   ]
  },
  {
   "cell_type": "code",
   "execution_count": null,
   "id": "0087d93e",
   "metadata": {
    "scrolled": true
   },
   "outputs": [],
   "source": [
    "df_final.plot.scatter(x='ln_pm25',\n",
    "                     y='death',\n",
    "                     ylim=(-10,600))\n",
    "# Add title and axis names\n",
    "plt.title('Deaths vs lnPM2.5 scatter chart')\n",
    "plt.xlabel('lnPM2.5')\n",
    "plt.ylabel('Deaths')\n",
    "\n",
    "#Create linear regression\n",
    "X = df_final.iloc[:, 4].values.reshape(-1, 1)  # values converts it into a numpy array ->lnPM2.5\n",
    "Y = df_final.iloc[:, 3].values.reshape(-1, 1)  # -1 means that calculate the dimension of rows, but have 1 column-> Death\n",
    "linear_regressor = LinearRegression()\n",
    "linear_regressor.fit(X, Y)  # perform linear regression\n",
    "Y_pred = linear_regressor.predict(X)  # make predictions\n",
    "plt.plot(X, Y_pred, color='red')\n",
    "\n",
    "plt.show()"
   ]
  },
  {
   "cell_type": "markdown",
   "id": "816a3a43",
   "metadata": {},
   "source": [
    "### d) Deaths vs lnNO2 "
   ]
  },
  {
   "cell_type": "code",
   "execution_count": null,
   "id": "97dc2d48",
   "metadata": {
    "scrolled": false
   },
   "outputs": [],
   "source": [
    "df_final.plot.scatter(x='ln_no2',\n",
    "                     y='death',\n",
    "                     ylim=(-10,600))\n",
    "# Add title and axis names\n",
    "plt.title('Deaths vs lnNO2 scatter chart')\n",
    "plt.xlabel('lnNO2')\n",
    "plt.ylabel('Deaths')\n",
    "\n",
    "#Create linear regression\n",
    "X = df_final.iloc[:, 5].values.reshape(-1, 1)  # values converts it into a numpy array -> lnNO2\n",
    "Y = df_final.iloc[:, 3].values.reshape(-1, 1)  # -1 means that calculate the dimension of rows, but have 1 column-> Death\n",
    "linear_regressor = LinearRegression()\n",
    "linear_regressor.fit(X, Y)  # perform linear regression\n",
    "Y_pred = linear_regressor.predict(X)  # make predictions\n",
    "plt.plot(X, Y_pred, color='red')\n",
    "\n",
    "plt.show()"
   ]
  },
  {
   "cell_type": "markdown",
   "id": "913b624b",
   "metadata": {},
   "source": [
    "### e) Deaths vs dPM2.5"
   ]
  },
  {
   "cell_type": "code",
   "execution_count": null,
   "id": "657eb563",
   "metadata": {
    "scrolled": true
   },
   "outputs": [],
   "source": [
    "df_final.plot.scatter(x='d_pm25',\n",
    "                     y='death',\n",
    "                     ylim=(-10,600))\n",
    "# Add title and axis names\n",
    "plt.title('Deaths vs dPM2.5 scatter chart')\n",
    "plt.xlabel('dPM2.5')\n",
    "plt.ylabel('Deaths')\n",
    "\n",
    "#Create linear regression\n",
    "##small comment: DataFrame has NaN values so we have at least 2 solution: \n",
    "                    # 1. remove rows with NaN values\n",
    "                    # 2. replace the NaN values with the mean -> I chose the second one because it seems more reasonable to me\n",
    "                        ##if you have other suggestions tell me\n",
    "            \n",
    "X_new=df_final.iloc[:, 7].fillna(df_final.iloc[:, 7].mean()) #replace the NaN values with the mean \n",
    "X = X_new.values.reshape(-1, 1)  # values converts it into a numpy array -> dPM2.5\n",
    "Y = df_final.iloc[:, 3].values.reshape(-1, 1)  # -1 means that calculate the dimension of rows, but have 1 column-> Death\n",
    "linear_regressor = LinearRegression()\n",
    "linear_regressor.fit(X, Y)  # perform linear regression\n",
    "Y_pred = linear_regressor.predict(X)  # make predictions\n",
    "plt.plot(X, Y_pred, color='red')\n",
    "\n",
    "plt.show()"
   ]
  },
  {
   "cell_type": "markdown",
   "id": "93b71060",
   "metadata": {},
   "source": [
    "### f) Deaths vs dNO2"
   ]
  },
  {
   "cell_type": "code",
   "execution_count": null,
   "id": "bb4ca79f",
   "metadata": {},
   "outputs": [],
   "source": [
    "df_final.plot.scatter(x='d_no2',\n",
    "                     y='death',\n",
    "                     ylim=(-10,600)\n",
    "                     )\n",
    "# Add title and axis names\n",
    "plt.title('Deaths vs dNO2 scatter chart')\n",
    "plt.xlabel('dNO2')\n",
    "plt.ylabel('Deaths')\n",
    "\n",
    "#Create linear regression\n",
    "X_new=df_final.iloc[:, 8].fillna(df_final.iloc[:, 8].mean()) #replace the NaN values with the mean\n",
    "X = X_new.values.reshape(-1, 1)  # values converts it into a numpy array -> dNO2\n",
    "Y = df_final.iloc[:, 3].values.reshape(-1, 1)  # -1 means that calculate the dimension of rows, but have 1 column-> Death\n",
    "linear_regressor = LinearRegression()\n",
    "linear_regressor.fit(X, Y)  # perform linear regression\n",
    "Y_pred = linear_regressor.predict(X)  # make predictions\n",
    "plt.plot(X, Y_pred, color='red')\n",
    "\n",
    "plt.show()"
   ]
  },
  {
   "cell_type": "code",
   "execution_count": null,
   "id": "d9590e38",
   "metadata": {},
   "outputs": [],
   "source": [
    "# 3.5.2) Plotting by date"
   ]
  },
  {
   "cell_type": "code",
   "execution_count": null,
   "id": "971e6d24",
   "metadata": {},
   "outputs": [],
   "source": []
  }
 ],
 "metadata": {
  "kernelspec": {
   "display_name": "Python 3 (ipykernel)",
   "language": "python",
   "name": "python3"
  },
  "language_info": {
   "codemirror_mode": {
    "name": "ipython",
    "version": 3
   },
   "file_extension": ".py",
   "mimetype": "text/x-python",
   "name": "python",
   "nbconvert_exporter": "python",
   "pygments_lexer": "ipython3",
   "version": "3.9.12"
  }
 },
 "nbformat": 4,
 "nbformat_minor": 5
}
